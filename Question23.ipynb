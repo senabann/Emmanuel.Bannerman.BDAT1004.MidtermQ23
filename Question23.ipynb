{
 "cells": [
  {
   "cell_type": "markdown",
   "id": "e2913167-6a3c-4d10-b992-ff85da489a3b",
   "metadata": {},
   "source": [
    "# Question 23"
   ]
  },
  {
   "cell_type": "code",
   "execution_count": 26,
   "id": "981a0407-421d-4084-870d-bc785958e9b7",
   "metadata": {},
   "outputs": [],
   "source": [
    "def tough(indentation, number):\n",
    "    if number == 0: # this is the base case of the recursive function\n",
    "        print(\" \")\n",
    "    else:\n",
    "        tough(indentation, number//2); #recursion calls function above using half the number\n",
    "        print(\" \" * indentation + \"*\" * number); #prints indented stars\n",
    "        tough(indentation + 1, number//2); #calls lines below, increasing indentation value by 1\n",
    "        \n",
    "        "
   ]
  },
  {
   "cell_type": "code",
   "execution_count": 22,
   "id": "1bd63907-3654-468d-8be3-0ced025f49ff",
   "metadata": {},
   "outputs": [
    {
     "name": "stdout",
     "output_type": "stream",
     "text": [
      " \n"
     ]
    }
   ],
   "source": [
    "tough(0, 0)"
   ]
  },
  {
   "cell_type": "code",
   "execution_count": 23,
   "id": "756afdb5-67d2-4fce-88c2-4301d29cd306",
   "metadata": {},
   "outputs": [
    {
     "name": "stdout",
     "output_type": "stream",
     "text": [
      " \n",
      "*\n",
      " \n"
     ]
    }
   ],
   "source": [
    "tough(0, 1)"
   ]
  },
  {
   "cell_type": "code",
   "execution_count": 24,
   "id": "4d51212e-c2ab-4e48-84b6-c7663a9b2519",
   "metadata": {},
   "outputs": [
    {
     "name": "stdout",
     "output_type": "stream",
     "text": [
      " \n",
      "*\n",
      " \n",
      "**\n",
      " \n",
      " *\n",
      " \n"
     ]
    }
   ],
   "source": [
    "tough(0, 2)"
   ]
  },
  {
   "cell_type": "code",
   "execution_count": 25,
   "id": "9d7e9c13-fb93-413f-aa74-646cde499b6f",
   "metadata": {},
   "outputs": [
    {
     "name": "stdout",
     "output_type": "stream",
     "text": [
      " \n",
      "*\n",
      " \n",
      "**\n",
      " \n",
      " *\n",
      " \n",
      "****\n",
      " \n",
      " *\n",
      " \n",
      " **\n",
      " \n",
      "  *\n",
      " \n"
     ]
    }
   ],
   "source": [
    "tough(0, 4)"
   ]
  },
  {
   "cell_type": "code",
   "execution_count": null,
   "id": "cde50c9b-d328-4047-895e-ed03321e01fd",
   "metadata": {},
   "outputs": [],
   "source": []
  }
 ],
 "metadata": {
  "kernelspec": {
   "display_name": "Python 3 (ipykernel)",
   "language": "python",
   "name": "python3"
  },
  "language_info": {
   "codemirror_mode": {
    "name": "ipython",
    "version": 3
   },
   "file_extension": ".py",
   "mimetype": "text/x-python",
   "name": "python",
   "nbconvert_exporter": "python",
   "pygments_lexer": "ipython3",
   "version": "3.11.7"
  }
 },
 "nbformat": 4,
 "nbformat_minor": 5
}
